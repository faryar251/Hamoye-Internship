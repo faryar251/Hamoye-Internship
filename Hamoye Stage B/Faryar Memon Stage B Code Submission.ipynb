{
 "cells": [
  {
   "cell_type": "markdown",
   "id": "048d2126",
   "metadata": {},
   "source": [
    "# Faryar Memon\n",
    "##### ID: 14770bef0541f000 <br>\n",
    "-----\n",
    "#### STAGE B: Machine Learning: Regression - Predicting Energy Efficiency of Buildings \n",
    "----- \n",
    "<br>Dataset ([Appliances Energy Prediction](https://archive.ics.uci.edu/ml/datasets/Appliances+energy+prediction))\n",
    "\n",
    "    Dataset Description:\n",
    "    \n",
    "        - Date, time year-month-day hour:minute:second\n",
    "        - Appliances, energy use in Wh\n",
    "        - lights, energy use of light fixtures in the house in Wh\n",
    "        - T1, Temperature in kitchen area, in Celsius\n",
    "        - RH_1, Humidity in kitchen area, in %\n",
    "        - T2, Temperature in living room area, in Celsius\n",
    "        - RH_2, Humidity in living room area, in %\n",
    "        - T3, Temperature in laundry room area\n",
    "        - RH_3, Humidity in laundry room area, in %\n",
    "        - T4, Temperature in office room, in Celsius\n",
    "        - RH_4, Humidity in office room, in %\n",
    "        - T5, Temperature in bathroom, in Celsius\n",
    "        - RH_5, Humidity in bathroom, in %\n",
    "        - T6, Temperature outside the building (north side), in Celsius\n",
    "        - RH_6, Humidity outside the building (north side), in %\n",
    "        - T7, Temperature in ironing room , in Celsius\n",
    "        - RH_7, Humidity in ironing room, in %\n",
    "        - T8, Temperature in teenager room 2, in Celsius\n",
    "        - RH_8, Humidity in teenager room 2, in %\n",
    "        - T9, Temperature in parents room, in Celsius\n",
    "        - RH_9, Humidity in parents room, in %\n",
    "        - To, Temperature outside (from Chievres weather station), in Celsius\n",
    "        - Pressure (from Chievres weather station), in mm Hg\n",
    "        - RH_out, Humidity outside (from Chievres weather station), in %\n",
    "        - Wind speed (from Chievres weather station), in m/s\n",
    "        - Visibility (from Chievres weather station), in km\n",
    "        - Tdewpoint (from Chievres weather station), Â°C\n",
    "        - rv1, Random variable 1, nondimensional\n",
    "        - rv2, Random variable 2, nondimensional\n",
    "<br>\n",
    "\n",
    "\n",
    "\n"
   ]
  },
  {
   "cell_type": "code",
   "execution_count": 23,
   "id": "cb955bd9",
   "metadata": {},
   "outputs": [],
   "source": [
    "import numpy as np\n",
    "import pandas as pd\n",
    "import matplotlib.pyplot as plt\n",
    "import seaborn as sns\n",
    "from sklearn.preprocessing import MinMaxScaler\n",
    "from sklearn.model_selection import train_test_split\n",
    "from sklearn.metrics import mean_absolute_error, mean_squared_error, r2_score\n",
    "from sklearn.linear_model import LinearRegression, Lasso, Ridge\n",
    "%matplotlib inline\n",
    "plt.style.use('dark_background')"
   ]
  },
  {
   "cell_type": "code",
   "execution_count": 2,
   "id": "1b4669f6",
   "metadata": {},
   "outputs": [],
   "source": [
    "path = 'energydata_complete.csv'\n",
    "df = pd.read_csv(path)"
   ]
  },
  {
   "cell_type": "code",
   "execution_count": 3,
   "id": "9d03f546",
   "metadata": {},
   "outputs": [
    {
     "data": {
      "text/html": [
       "<div>\n",
       "<style scoped>\n",
       "    .dataframe tbody tr th:only-of-type {\n",
       "        vertical-align: middle;\n",
       "    }\n",
       "\n",
       "    .dataframe tbody tr th {\n",
       "        vertical-align: top;\n",
       "    }\n",
       "\n",
       "    .dataframe thead th {\n",
       "        text-align: right;\n",
       "    }\n",
       "</style>\n",
       "<table border=\"1\" class=\"dataframe\">\n",
       "  <thead>\n",
       "    <tr style=\"text-align: right;\">\n",
       "      <th></th>\n",
       "      <th>date</th>\n",
       "      <th>Appliances</th>\n",
       "      <th>lights</th>\n",
       "      <th>T1</th>\n",
       "      <th>RH_1</th>\n",
       "      <th>T2</th>\n",
       "      <th>RH_2</th>\n",
       "      <th>T3</th>\n",
       "      <th>RH_3</th>\n",
       "      <th>T4</th>\n",
       "      <th>...</th>\n",
       "      <th>T9</th>\n",
       "      <th>RH_9</th>\n",
       "      <th>T_out</th>\n",
       "      <th>Press_mm_hg</th>\n",
       "      <th>RH_out</th>\n",
       "      <th>Windspeed</th>\n",
       "      <th>Visibility</th>\n",
       "      <th>Tdewpoint</th>\n",
       "      <th>rv1</th>\n",
       "      <th>rv2</th>\n",
       "    </tr>\n",
       "  </thead>\n",
       "  <tbody>\n",
       "    <tr>\n",
       "      <th>0</th>\n",
       "      <td>2016-01-11 17:00:00</td>\n",
       "      <td>60</td>\n",
       "      <td>30</td>\n",
       "      <td>19.89</td>\n",
       "      <td>47.596667</td>\n",
       "      <td>19.2</td>\n",
       "      <td>44.790000</td>\n",
       "      <td>19.79</td>\n",
       "      <td>44.730000</td>\n",
       "      <td>19.000000</td>\n",
       "      <td>...</td>\n",
       "      <td>17.033333</td>\n",
       "      <td>45.53</td>\n",
       "      <td>6.600000</td>\n",
       "      <td>733.5</td>\n",
       "      <td>92.0</td>\n",
       "      <td>7.000000</td>\n",
       "      <td>63.000000</td>\n",
       "      <td>5.3</td>\n",
       "      <td>13.275433</td>\n",
       "      <td>13.275433</td>\n",
       "    </tr>\n",
       "    <tr>\n",
       "      <th>1</th>\n",
       "      <td>2016-01-11 17:10:00</td>\n",
       "      <td>60</td>\n",
       "      <td>30</td>\n",
       "      <td>19.89</td>\n",
       "      <td>46.693333</td>\n",
       "      <td>19.2</td>\n",
       "      <td>44.722500</td>\n",
       "      <td>19.79</td>\n",
       "      <td>44.790000</td>\n",
       "      <td>19.000000</td>\n",
       "      <td>...</td>\n",
       "      <td>17.066667</td>\n",
       "      <td>45.56</td>\n",
       "      <td>6.483333</td>\n",
       "      <td>733.6</td>\n",
       "      <td>92.0</td>\n",
       "      <td>6.666667</td>\n",
       "      <td>59.166667</td>\n",
       "      <td>5.2</td>\n",
       "      <td>18.606195</td>\n",
       "      <td>18.606195</td>\n",
       "    </tr>\n",
       "    <tr>\n",
       "      <th>2</th>\n",
       "      <td>2016-01-11 17:20:00</td>\n",
       "      <td>50</td>\n",
       "      <td>30</td>\n",
       "      <td>19.89</td>\n",
       "      <td>46.300000</td>\n",
       "      <td>19.2</td>\n",
       "      <td>44.626667</td>\n",
       "      <td>19.79</td>\n",
       "      <td>44.933333</td>\n",
       "      <td>18.926667</td>\n",
       "      <td>...</td>\n",
       "      <td>17.000000</td>\n",
       "      <td>45.50</td>\n",
       "      <td>6.366667</td>\n",
       "      <td>733.7</td>\n",
       "      <td>92.0</td>\n",
       "      <td>6.333333</td>\n",
       "      <td>55.333333</td>\n",
       "      <td>5.1</td>\n",
       "      <td>28.642668</td>\n",
       "      <td>28.642668</td>\n",
       "    </tr>\n",
       "    <tr>\n",
       "      <th>3</th>\n",
       "      <td>2016-01-11 17:30:00</td>\n",
       "      <td>50</td>\n",
       "      <td>40</td>\n",
       "      <td>19.89</td>\n",
       "      <td>46.066667</td>\n",
       "      <td>19.2</td>\n",
       "      <td>44.590000</td>\n",
       "      <td>19.79</td>\n",
       "      <td>45.000000</td>\n",
       "      <td>18.890000</td>\n",
       "      <td>...</td>\n",
       "      <td>17.000000</td>\n",
       "      <td>45.40</td>\n",
       "      <td>6.250000</td>\n",
       "      <td>733.8</td>\n",
       "      <td>92.0</td>\n",
       "      <td>6.000000</td>\n",
       "      <td>51.500000</td>\n",
       "      <td>5.0</td>\n",
       "      <td>45.410389</td>\n",
       "      <td>45.410389</td>\n",
       "    </tr>\n",
       "    <tr>\n",
       "      <th>4</th>\n",
       "      <td>2016-01-11 17:40:00</td>\n",
       "      <td>60</td>\n",
       "      <td>40</td>\n",
       "      <td>19.89</td>\n",
       "      <td>46.333333</td>\n",
       "      <td>19.2</td>\n",
       "      <td>44.530000</td>\n",
       "      <td>19.79</td>\n",
       "      <td>45.000000</td>\n",
       "      <td>18.890000</td>\n",
       "      <td>...</td>\n",
       "      <td>17.000000</td>\n",
       "      <td>45.40</td>\n",
       "      <td>6.133333</td>\n",
       "      <td>733.9</td>\n",
       "      <td>92.0</td>\n",
       "      <td>5.666667</td>\n",
       "      <td>47.666667</td>\n",
       "      <td>4.9</td>\n",
       "      <td>10.084097</td>\n",
       "      <td>10.084097</td>\n",
       "    </tr>\n",
       "  </tbody>\n",
       "</table>\n",
       "<p>5 rows × 29 columns</p>\n",
       "</div>"
      ],
      "text/plain": [
       "                  date  Appliances  lights     T1       RH_1    T2       RH_2  \\\n",
       "0  2016-01-11 17:00:00          60      30  19.89  47.596667  19.2  44.790000   \n",
       "1  2016-01-11 17:10:00          60      30  19.89  46.693333  19.2  44.722500   \n",
       "2  2016-01-11 17:20:00          50      30  19.89  46.300000  19.2  44.626667   \n",
       "3  2016-01-11 17:30:00          50      40  19.89  46.066667  19.2  44.590000   \n",
       "4  2016-01-11 17:40:00          60      40  19.89  46.333333  19.2  44.530000   \n",
       "\n",
       "      T3       RH_3         T4  ...         T9   RH_9     T_out  Press_mm_hg  \\\n",
       "0  19.79  44.730000  19.000000  ...  17.033333  45.53  6.600000        733.5   \n",
       "1  19.79  44.790000  19.000000  ...  17.066667  45.56  6.483333        733.6   \n",
       "2  19.79  44.933333  18.926667  ...  17.000000  45.50  6.366667        733.7   \n",
       "3  19.79  45.000000  18.890000  ...  17.000000  45.40  6.250000        733.8   \n",
       "4  19.79  45.000000  18.890000  ...  17.000000  45.40  6.133333        733.9   \n",
       "\n",
       "   RH_out  Windspeed  Visibility  Tdewpoint        rv1        rv2  \n",
       "0    92.0   7.000000   63.000000        5.3  13.275433  13.275433  \n",
       "1    92.0   6.666667   59.166667        5.2  18.606195  18.606195  \n",
       "2    92.0   6.333333   55.333333        5.1  28.642668  28.642668  \n",
       "3    92.0   6.000000   51.500000        5.0  45.410389  45.410389  \n",
       "4    92.0   5.666667   47.666667        4.9  10.084097  10.084097  \n",
       "\n",
       "[5 rows x 29 columns]"
      ]
     },
     "execution_count": 3,
     "metadata": {},
     "output_type": "execute_result"
    }
   ],
   "source": [
    "df.head()"
   ]
  },
  {
   "cell_type": "markdown",
   "id": "24d12c4a",
   "metadata": {},
   "source": [
    "### Understanding the dataset; data types, basic stats of each columns and finding missing values & duplicated rows.\n",
    "\n"
   ]
  },
  {
   "cell_type": "code",
   "execution_count": 4,
   "id": "9c4a182f",
   "metadata": {},
   "outputs": [
    {
     "name": "stdout",
     "output_type": "stream",
     "text": [
      "<class 'pandas.core.frame.DataFrame'>\n",
      "RangeIndex: 19735 entries, 0 to 19734\n",
      "Data columns (total 29 columns):\n",
      " #   Column       Non-Null Count  Dtype  \n",
      "---  ------       --------------  -----  \n",
      " 0   date         19735 non-null  object \n",
      " 1   Appliances   19735 non-null  int64  \n",
      " 2   lights       19735 non-null  int64  \n",
      " 3   T1           19735 non-null  float64\n",
      " 4   RH_1         19735 non-null  float64\n",
      " 5   T2           19735 non-null  float64\n",
      " 6   RH_2         19735 non-null  float64\n",
      " 7   T3           19735 non-null  float64\n",
      " 8   RH_3         19735 non-null  float64\n",
      " 9   T4           19735 non-null  float64\n",
      " 10  RH_4         19735 non-null  float64\n",
      " 11  T5           19735 non-null  float64\n",
      " 12  RH_5         19735 non-null  float64\n",
      " 13  T6           19735 non-null  float64\n",
      " 14  RH_6         19735 non-null  float64\n",
      " 15  T7           19735 non-null  float64\n",
      " 16  RH_7         19735 non-null  float64\n",
      " 17  T8           19735 non-null  float64\n",
      " 18  RH_8         19735 non-null  float64\n",
      " 19  T9           19735 non-null  float64\n",
      " 20  RH_9         19735 non-null  float64\n",
      " 21  T_out        19735 non-null  float64\n",
      " 22  Press_mm_hg  19735 non-null  float64\n",
      " 23  RH_out       19735 non-null  float64\n",
      " 24  Windspeed    19735 non-null  float64\n",
      " 25  Visibility   19735 non-null  float64\n",
      " 26  Tdewpoint    19735 non-null  float64\n",
      " 27  rv1          19735 non-null  float64\n",
      " 28  rv2          19735 non-null  float64\n",
      "dtypes: float64(26), int64(2), object(1)\n",
      "memory usage: 4.4+ MB\n",
      "None\n",
      "--------------------\n",
      "                       date    Appliances        lights            T1  \\\n",
      "count                 19735  19735.000000  19735.000000  19735.000000   \n",
      "unique                19735           NaN           NaN           NaN   \n",
      "top     2016-01-11 17:00:00           NaN           NaN           NaN   \n",
      "freq                      1           NaN           NaN           NaN   \n",
      "mean                    NaN     97.694958      3.801875     21.686571   \n",
      "std                     NaN    102.524891      7.935988      1.606066   \n",
      "min                     NaN     10.000000      0.000000     16.790000   \n",
      "25%                     NaN     50.000000      0.000000     20.760000   \n",
      "50%                     NaN     60.000000      0.000000     21.600000   \n",
      "75%                     NaN    100.000000      0.000000     22.600000   \n",
      "max                     NaN   1080.000000     70.000000     26.260000   \n",
      "\n",
      "                RH_1            T2          RH_2            T3          RH_3  \\\n",
      "count   19735.000000  19735.000000  19735.000000  19735.000000  19735.000000   \n",
      "unique           NaN           NaN           NaN           NaN           NaN   \n",
      "top              NaN           NaN           NaN           NaN           NaN   \n",
      "freq             NaN           NaN           NaN           NaN           NaN   \n",
      "mean       40.259739     20.341219     40.420420     22.267611     39.242500   \n",
      "std         3.979299      2.192974      4.069813      2.006111      3.254576   \n",
      "min        27.023333     16.100000     20.463333     17.200000     28.766667   \n",
      "25%        37.333333     18.790000     37.900000     20.790000     36.900000   \n",
      "50%        39.656667     20.000000     40.500000     22.100000     38.530000   \n",
      "75%        43.066667     21.500000     43.260000     23.290000     41.760000   \n",
      "max        63.360000     29.856667     56.026667     29.236000     50.163333   \n",
      "\n",
      "                  T4  ...            T9          RH_9         T_out  \\\n",
      "count   19735.000000  ...  19735.000000  19735.000000  19735.000000   \n",
      "unique           NaN  ...           NaN           NaN           NaN   \n",
      "top              NaN  ...           NaN           NaN           NaN   \n",
      "freq             NaN  ...           NaN           NaN           NaN   \n",
      "mean       20.855335  ...     19.485828     41.552401      7.411665   \n",
      "std         2.042884  ...      2.014712      4.151497      5.317409   \n",
      "min        15.100000  ...     14.890000     29.166667     -5.000000   \n",
      "25%        19.530000  ...     18.000000     38.500000      3.666667   \n",
      "50%        20.666667  ...     19.390000     40.900000      6.916667   \n",
      "75%        22.100000  ...     20.600000     44.338095     10.408333   \n",
      "max        26.200000  ...     24.500000     53.326667     26.100000   \n",
      "\n",
      "         Press_mm_hg        RH_out     Windspeed    Visibility     Tdewpoint  \\\n",
      "count   19735.000000  19735.000000  19735.000000  19735.000000  19735.000000   \n",
      "unique           NaN           NaN           NaN           NaN           NaN   \n",
      "top              NaN           NaN           NaN           NaN           NaN   \n",
      "freq             NaN           NaN           NaN           NaN           NaN   \n",
      "mean      755.522602     79.750418      4.039752     38.330834      3.760707   \n",
      "std         7.399441     14.901088      2.451221     11.794719      4.194648   \n",
      "min       729.300000     24.000000      0.000000      1.000000     -6.600000   \n",
      "25%       750.933333     70.333333      2.000000     29.000000      0.900000   \n",
      "50%       756.100000     83.666667      3.666667     40.000000      3.433333   \n",
      "75%       760.933333     91.666667      5.500000     40.000000      6.566667   \n",
      "max       772.300000    100.000000     14.000000     66.000000     15.500000   \n",
      "\n",
      "                 rv1           rv2  \n",
      "count   19735.000000  19735.000000  \n",
      "unique           NaN           NaN  \n",
      "top              NaN           NaN  \n",
      "freq             NaN           NaN  \n",
      "mean       24.988033     24.988033  \n",
      "std        14.496634     14.496634  \n",
      "min         0.005322      0.005322  \n",
      "25%        12.497889     12.497889  \n",
      "50%        24.897653     24.897653  \n",
      "75%        37.583769     37.583769  \n",
      "max        49.996530     49.996530  \n",
      "\n",
      "[11 rows x 29 columns]\n",
      "--------------------\n",
      "There are no null values\n",
      "--------------------\n",
      "There are no duplicated rows\n"
     ]
    }
   ],
   "source": [
    "def DB_Info(df):\n",
    "    \"\"\"\n",
    "    Returns detailed information about the dataset such as it's data types, \n",
    "    basics statistics, number of missing values in each columns & duplicated rows\n",
    "    \"\"\"\n",
    "    print(df.info())\n",
    "    print('-'*20)\n",
    "    print(df.describe(include='all'))\n",
    "    print('-'*20)\n",
    "    d = df.isnull().sum()\n",
    "    # prints the columns with null values with a total count of null values it contains\n",
    "    if d[d>0].any():\n",
    "        print(d[d>0])\n",
    "    else:\n",
    "        print('There are no null values')\n",
    "    print('-'*20)\n",
    "    # prints the duplicated rows\n",
    "    if df.duplicated().any():\n",
    "        print(df[df.duplicated()])\n",
    "    else:\n",
    "        print('There are no duplicated rows')\n",
    "    \n",
    "DB_Info(df)"
   ]
  },
  {
   "cell_type": "markdown",
   "id": "b5225a10",
   "metadata": {},
   "source": [
    "As stated in the output, the dataset consists of 19735 entries (rows) & 29 columns (variables).\n",
    "<br>There are no missing values and duplicated rows."
   ]
  },
  {
   "cell_type": "code",
   "execution_count": 5,
   "id": "7b67251e",
   "metadata": {},
   "outputs": [
    {
     "name": "stdout",
     "output_type": "stream",
     "text": [
      "lights has 8 unique values ->> [30 40 50 70 60 10 20  0]\n",
      "\n"
     ]
    }
   ],
   "source": [
    "# Checking for categorial columns\n",
    "for col in df.columns:\n",
    "    a = df[col].unique()\n",
    "    if len(a)<15:\n",
    "        print(f'{col} has {len(a)} unique values ->> {a}', end = '\\n\\n')"
   ]
  },
  {
   "cell_type": "markdown",
   "id": "999d9622",
   "metadata": {},
   "source": [
    "## Question 12\n",
    "\n",
    "From the dataset, fit a linear model on the relationship between the temperature in the living room in Celsius (x = T2) and the temperature outside the building (y = T6). What is the R^2 value in two d.p.?"
   ]
  },
  {
   "cell_type": "code",
   "execution_count": 6,
   "id": "3799ab96",
   "metadata": {},
   "outputs": [],
   "source": [
    "features = df[['T2']] #X = T2 \n",
    "target = df[['T6']] #Y = T6\n",
    "\n",
    "# Splitting the features & targe variables into train and test data set\n",
    "x_train, x_test, y_train, y_test = train_test_split(features, target,\n",
    "                                                    test_size=0.3)\n",
    "# fitting the linear regression model\n",
    "linear_model1 = LinearRegression()\n",
    "linear_model1.fit(x_train, y_train)\n",
    "p1 = linear_model1.predict(x_test)"
   ]
  },
  {
   "cell_type": "code",
   "execution_count": 7,
   "id": "1afaef10",
   "metadata": {},
   "outputs": [
    {
     "name": "stdout",
     "output_type": "stream",
     "text": [
      "R Squared of the linear model is 0.63.\n"
     ]
    }
   ],
   "source": [
    "r2_1 = round(r2_score(y_test, p1), 2)\n",
    "print(f'R Squared of the linear model is {r2_1}.')"
   ]
  },
  {
   "cell_type": "markdown",
   "id": "d0194660",
   "metadata": {},
   "source": [
    "### Answer:\n",
    "The R^2 value in two d.p. is 0.64."
   ]
  },
  {
   "cell_type": "markdown",
   "id": "94a77a77",
   "metadata": {},
   "source": [
    "## Question 13\n",
    "Normalize the dataset using the MinMaxScaler after removing the following columns: [“date”, “lights”]. The target variable is “Appliances”. Use a 70-30 train-test set split with a random state of 42 (for reproducibility). Run a multiple linear regression using the training set and evaluate your model on the test set. Answer the following questions:\n",
    "\n",
    "What is the Mean Absolute Error (in two decimal places)?"
   ]
  },
  {
   "cell_type": "code",
   "execution_count": 8,
   "id": "1d1f785a",
   "metadata": {},
   "outputs": [],
   "source": [
    "# dropping the columns 'date' & 'lights' as per instruction\n",
    "new_df = df.drop(columns=['date', 'lights'])\n",
    "scalar = MinMaxScaler()\n",
    "# normalizing the new data set\n",
    "normalized_new_df = pd.DataFrame(scalar.fit_transform(new_df), columns=new_df.columns)"
   ]
  },
  {
   "cell_type": "code",
   "execution_count": 9,
   "id": "abda13aa",
   "metadata": {},
   "outputs": [],
   "source": [
    "# Creating features and target\n",
    "features2 = normalized_new_df.drop(columns=['Appliances'])\n",
    "target2 = normalized_new_df['Appliances']\n",
    "\n",
    "x2_train, x2_test, y2_train, y2_test = train_test_split(features2, target2,\n",
    "                                                    test_size=0.3, random_state=42)\n",
    "linear_model2 = LinearRegression(normalize=True)\n",
    "linear_model2.fit(x2_train, y2_train)\n",
    "p2 = linear_model2.predict(x2_test)"
   ]
  },
  {
   "cell_type": "code",
   "execution_count": 10,
   "id": "a112eb0e",
   "metadata": {},
   "outputs": [
    {
     "name": "stdout",
     "output_type": "stream",
     "text": [
      "Mean Absolute Error (MAE) of this multiple linear regression model is 0.05.\n"
     ]
    }
   ],
   "source": [
    "mae2 = round(mean_absolute_error(y2_test, p2),2)\n",
    "print(f'Mean Absolute Error (MAE) of this multiple linear regression model is {mae2}.')"
   ]
  },
  {
   "cell_type": "markdown",
   "id": "9eba7847",
   "metadata": {},
   "source": [
    "### Answer:\n",
    "Mean Absolute Error (MAE) of this multiple linear regression model (in 2 decimal) is 0.05."
   ]
  },
  {
   "cell_type": "markdown",
   "id": "ca608191",
   "metadata": {},
   "source": [
    "## Question 14\n",
    "What is the Residual Sum of Squares (in two decimal places)?"
   ]
  },
  {
   "cell_type": "code",
   "execution_count": 11,
   "id": "0194fd05",
   "metadata": {},
   "outputs": [
    {
     "name": "stdout",
     "output_type": "stream",
     "text": [
      "Residual Sum of Squares (RSS) of this multiple linear regression model is 45.35.\n"
     ]
    }
   ],
   "source": [
    "rss2 = round(np.sum(np.square(y2_test-p2)), 2)\n",
    "print(f'Residual Sum of Squares (RSS) of this multiple linear regression model is {rss2}.')"
   ]
  },
  {
   "cell_type": "markdown",
   "id": "158e47b3",
   "metadata": {},
   "source": [
    "### Answer:\n",
    "Residual Sum of Squares (RSS) of this multiple linear regression model (in 2 decimal) is 45.35."
   ]
  },
  {
   "cell_type": "markdown",
   "id": "4741f952",
   "metadata": {},
   "source": [
    "## Question 15\n",
    "What is the Root Mean Squared Error (in three decimal places)?"
   ]
  },
  {
   "cell_type": "code",
   "execution_count": 12,
   "id": "e1a55e8b",
   "metadata": {},
   "outputs": [
    {
     "name": "stdout",
     "output_type": "stream",
     "text": [
      "Root Mean Squared Error (RMSE) of this multiple linear regression model is 0.088.\n"
     ]
    }
   ],
   "source": [
    "rmse2 = round(np.sqrt(mean_squared_error(y2_test, p2)), 3)\n",
    "print(f'Root Mean Squared Error (RMSE) of this multiple linear regression model is {rmse2}.')"
   ]
  },
  {
   "cell_type": "markdown",
   "id": "2320d8e6",
   "metadata": {},
   "source": [
    "### Answer:\n",
    "Root Mean Squared Error (RMSE) of this multiple linear regression model (in 3 decimal)is 0.088."
   ]
  },
  {
   "cell_type": "markdown",
   "id": "0da967d5",
   "metadata": {},
   "source": [
    "## Question 16\n",
    "What is the Coefficient of Determination (in two decimal places)?"
   ]
  },
  {
   "cell_type": "code",
   "execution_count": 13,
   "id": "c4180d7d",
   "metadata": {},
   "outputs": [
    {
     "name": "stdout",
     "output_type": "stream",
     "text": [
      "Coefficient of Determination (R Squared) of this multiple linear regression model is 0.15.\n"
     ]
    }
   ],
   "source": [
    "r2_2 = round(r2_score(y2_test, p2), 2)\n",
    "print(f'Coefficient of Determination (R Squared) of this multiple linear regression model is {r2_2}.')"
   ]
  },
  {
   "cell_type": "markdown",
   "id": "f551ac76",
   "metadata": {},
   "source": [
    "### Answer:\n",
    "Coefficient of Determination (R Squared) of this multiple linear regression model (in 2 decimal) is 0.15."
   ]
  },
  {
   "cell_type": "markdown",
   "id": "754242bf",
   "metadata": {},
   "source": [
    "## Question 17\n",
    "Obtain the feature weights from your linear model above. Which features have the lowest and highest weights respectively?"
   ]
  },
  {
   "cell_type": "code",
   "execution_count": 14,
   "id": "8cd5c90a",
   "metadata": {
    "scrolled": false
   },
   "outputs": [
    {
     "data": {
      "text/plain": [
       "RH_2          -0.456698\n",
       "T_out         -0.321860\n",
       "T2            -0.236178\n",
       "T9            -0.189941\n",
       "RH_8          -0.157595\n",
       "RH_out        -0.077671\n",
       "RH_7          -0.044614\n",
       "RH_9          -0.039800\n",
       "T5            -0.015657\n",
       "T1            -0.003281\n",
       "rv2            0.000770\n",
       "rv1            0.000770\n",
       "Press_mm_hg    0.006839\n",
       "T7             0.010319\n",
       "Visibility     0.012307\n",
       "RH_5           0.016006\n",
       "RH_4           0.026386\n",
       "T4             0.028981\n",
       "Windspeed      0.029183\n",
       "RH_6           0.038049\n",
       "RH_3           0.096048\n",
       "T8             0.101995\n",
       "Tdewpoint      0.117758\n",
       "T6             0.236425\n",
       "T3             0.290627\n",
       "RH_1           0.553547\n",
       "dtype: float64"
      ]
     },
     "execution_count": 14,
     "metadata": {},
     "output_type": "execute_result"
    }
   ],
   "source": [
    "linear_weights2 = pd.Series(linear_model2.coef_, x2_train.columns).sort_values()\n",
    "linear_weights2.columns = ['Features', 'Linear Regression Weights']\n",
    "linear_weights2"
   ]
  },
  {
   "cell_type": "code",
   "execution_count": 15,
   "id": "cba70335",
   "metadata": {},
   "outputs": [
    {
     "name": "stdout",
     "output_type": "stream",
     "text": [
      "Highest weighted feature is RH_1 with weight 0.553547.\n"
     ]
    }
   ],
   "source": [
    "print(f'Highest weighted feature is {linear_weights2.idxmax()} with weight {round(linear_weights2.max(), 6)}.')"
   ]
  },
  {
   "cell_type": "code",
   "execution_count": 16,
   "id": "a1ed601d",
   "metadata": {},
   "outputs": [
    {
     "name": "stdout",
     "output_type": "stream",
     "text": [
      "Lowest weighted feature is RH_2 with weight -0.456698.\n"
     ]
    }
   ],
   "source": [
    "print(f'Lowest weighted feature is {linear_weights2.idxmin()} with weight {round(linear_weights2.min(),6)}.')"
   ]
  },
  {
   "cell_type": "markdown",
   "id": "df7d3751",
   "metadata": {},
   "source": [
    "### Answer:\n",
    "Highest weighted feature is <strong>RH_1</strong> with weight 0.553547.\n",
    "<br>Lowest weighted feature is <strong>RH_2</strong> with weight -0.456698."
   ]
  },
  {
   "cell_type": "markdown",
   "id": "8838bffb",
   "metadata": {},
   "source": [
    "## Question 18\n",
    "Train a ridge regression model with an alpha value of 0.4. Is there any change to the root mean squared error (RMSE) when evaluated on the test set?"
   ]
  },
  {
   "cell_type": "code",
   "execution_count": 17,
   "id": "3fd59c41",
   "metadata": {},
   "outputs": [],
   "source": [
    "ridge_reg = Ridge(alpha=0.4)\n",
    "ridge_reg.fit(x2_train, y2_train)\n",
    "p3 = ridge_reg.predict(x2_test)"
   ]
  },
  {
   "cell_type": "code",
   "execution_count": 18,
   "id": "23acc620",
   "metadata": {},
   "outputs": [
    {
     "name": "stdout",
     "output_type": "stream",
     "text": [
      "Root Mean Squared Error (RMSE) of this Ridge Regression model is 0.088.\n"
     ]
    }
   ],
   "source": [
    "rmse3 = round(np.sqrt(mean_squared_error(y2_test, p3)), 3)\n",
    "print(f'Root Mean Squared Error (RMSE) of this Ridge Regression model is {rmse3}.')"
   ]
  },
  {
   "cell_type": "markdown",
   "id": "aa29de06",
   "metadata": {},
   "source": [
    "### Answer:\n",
    "Root Mean Squared Error (RMSE) of this Ridge Regression model is 0.088\n",
    "Since the RMSE of Linear Regression mode was also 0.088, there is NO CHANGE in RMSE."
   ]
  },
  {
   "cell_type": "markdown",
   "id": "55c42a0c",
   "metadata": {},
   "source": [
    "## Question 19\n",
    "Train a lasso regression model with an alpha value of 0.001 and obtain the new feature weights with it. How many of the features have non-zero feature weights?"
   ]
  },
  {
   "cell_type": "code",
   "execution_count": 19,
   "id": "0811c874",
   "metadata": {},
   "outputs": [],
   "source": [
    "lasso_reg = Lasso(alpha=0.001)\n",
    "lasso_reg.fit(x2_train,y2_train)\n",
    "p4 = lasso_reg.predict(x2_test)"
   ]
  },
  {
   "cell_type": "code",
   "execution_count": 20,
   "id": "05b7f3c0",
   "metadata": {},
   "outputs": [
    {
     "data": {
      "text/plain": [
       "RH_out        -0.049557\n",
       "RH_8          -0.000110\n",
       "T1             0.000000\n",
       "Tdewpoint      0.000000\n",
       "Visibility     0.000000\n",
       "Press_mm_hg   -0.000000\n",
       "T_out          0.000000\n",
       "RH_9          -0.000000\n",
       "T9            -0.000000\n",
       "T8             0.000000\n",
       "RH_7          -0.000000\n",
       "rv1           -0.000000\n",
       "T7            -0.000000\n",
       "T6             0.000000\n",
       "RH_5           0.000000\n",
       "T5            -0.000000\n",
       "RH_4           0.000000\n",
       "T4            -0.000000\n",
       "RH_3           0.000000\n",
       "T3             0.000000\n",
       "RH_2          -0.000000\n",
       "T2             0.000000\n",
       "RH_6          -0.000000\n",
       "rv2           -0.000000\n",
       "Windspeed      0.002912\n",
       "RH_1           0.017880\n",
       "dtype: float64"
      ]
     },
     "execution_count": 20,
     "metadata": {},
     "output_type": "execute_result"
    }
   ],
   "source": [
    "lasso_weights = pd.Series(lasso_reg.coef_, x2_train.columns).sort_values()\n",
    "lasso_weights.columns = ['Features', 'Lasso Regression Weights']\n",
    "lasso_weights"
   ]
  },
  {
   "cell_type": "code",
   "execution_count": 21,
   "id": "10509114",
   "metadata": {},
   "outputs": [
    {
     "name": "stdout",
     "output_type": "stream",
     "text": [
      "There are 4 features with non-zero feature weights in this Lasso Regression model.\n"
     ]
    }
   ],
   "source": [
    "non_zero_wcount = lasso_weights[lasso_weights!=0.0].count()\n",
    "print(f'There are {non_zero_wcount} features with non-zero feature weights in this Lasso Regression model.')"
   ]
  },
  {
   "cell_type": "markdown",
   "id": "fe3871fe",
   "metadata": {},
   "source": [
    "### Answer:\n",
    "There are *4* features with non-zero feature weights."
   ]
  },
  {
   "cell_type": "markdown",
   "id": "aa336d69",
   "metadata": {},
   "source": [
    "## Question 20\n",
    "What is the new RMSE with the lasso regression? (Answer should be in three (3) decimal places)"
   ]
  },
  {
   "cell_type": "code",
   "execution_count": 22,
   "id": "e96267b0",
   "metadata": {},
   "outputs": [
    {
     "name": "stdout",
     "output_type": "stream",
     "text": [
      "Root Mean Squared Error (RMSE) of this Lasso Regression model is 0.094.\n"
     ]
    }
   ],
   "source": [
    "rmse4 = round(np.sqrt(mean_squared_error(y2_test, p4)), 3)\n",
    "print(f'Root Mean Squared Error (RMSE) of this Lasso Regression model is {rmse4}.')"
   ]
  },
  {
   "cell_type": "markdown",
   "id": "5bb54d02",
   "metadata": {},
   "source": [
    "### Answer:\n",
    "Root Mean Squared Error (RMSE) of this Lasso Regression model is 0.094 (in 3 decimal places)."
   ]
  }
 ],
 "metadata": {
  "kernelspec": {
   "display_name": "Python 3 (ipykernel)",
   "language": "python",
   "name": "python3"
  },
  "language_info": {
   "codemirror_mode": {
    "name": "ipython",
    "version": 3
   },
   "file_extension": ".py",
   "mimetype": "text/x-python",
   "name": "python",
   "nbconvert_exporter": "python",
   "pygments_lexer": "ipython3",
   "version": "3.9.7"
  },
  "varInspector": {
   "cols": {
    "lenName": 16,
    "lenType": 16,
    "lenVar": 40
   },
   "kernels_config": {
    "python": {
     "delete_cmd_postfix": "",
     "delete_cmd_prefix": "del ",
     "library": "var_list.py",
     "varRefreshCmd": "print(var_dic_list())"
    },
    "r": {
     "delete_cmd_postfix": ") ",
     "delete_cmd_prefix": "rm(",
     "library": "var_list.r",
     "varRefreshCmd": "cat(var_dic_list()) "
    }
   },
   "types_to_exclude": [
    "module",
    "function",
    "builtin_function_or_method",
    "instance",
    "_Feature"
   ],
   "window_display": false
  }
 },
 "nbformat": 4,
 "nbformat_minor": 5
}
